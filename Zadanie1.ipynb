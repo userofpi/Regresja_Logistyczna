{
 "cells": [
  {
   "cell_type": "code",
   "id": "initial_id",
   "metadata": {
    "collapsed": true,
    "ExecuteTime": {
     "end_time": "2024-12-12T21:50:17.948141Z",
     "start_time": "2024-12-12T21:50:17.941331Z"
    }
   },
   "source": [
    "from sklearn.metrics import classification_report, confusion_matrix\n",
    "from sklearn.model_selection import train_test_split\n",
    "from sklearn.linear_model import LogisticRegression\n",
    "from sklearn.metrics import roc_curve, roc_auc_score\n",
    "from sklearn.model_selection import GridSearchCV\n",
    "from sklearn.model_selection import RandomizedSearchCV\n",
    "import pandas as pd\n",
    "import numpy as np\n",
    "\n",
    "# dane\n",
    "data = pd.read_csv('Stan_cywilny.csv', sep=';', header=0)\n",
    "\n",
    "\n",
    "# logistyczna regresja\n",
    "# p - prawdopodobieństwo przynależności do klasy 1\n",
    "# linia decyzyjna\n",
    "# logreg = LogisticRegression()\n",
    "\n",
    "# predict_proba - zwraca prawdopodobieństwo przynależności do klasy 0 i 1\n",
    "# 2 dimmensional array\n",
    "# druga kolumna - prawdopodobieństwo przynależności do positive class\n",
    "# threshold - 0.5 - domyślny próg odcięcia dla klasyfikatora binarnego\n",
    "# krzywa ROC - Receiver Operating Characteristic\n",
    "# fpr- false positive rate\n",
    "# tpr- true positive rate\n",
    "\n",
    "# zeby uzykac tylko positive class\n",
    "#y_pred_probs = logreg.predict_proba(X_test)[:, 1]\n",
    "# print(classification_report(y_test, y_pred))\n",
    "# wyswietli precision, recall, f1-score, support\n",
    "# optymalizacja - zmiana thresholdu\n",
    "# uzyj cross validation\n",
    "# grid search\n",
    "#print(\"Tuned Logistic Regression Parameters: {}\".format(logreg_cv.best_params_))\n",
    "#print(\"Tuned Logistic Regression Best Accuracy Score: {}\".format(logreg_cv.best_score_))\n",
    "\n",
    "# data\n",
    "print(data)\n",
    "# change M to 1 and W to 0\n",
    "# data['Stan cywilny'] = data['Stan cywilny'].map({'M': 1, 'W': 0})"
   ],
   "outputs": [
    {
     "name": "stdout",
     "output_type": "stream",
     "text": [
      "    Rok_studiow Stan_cywilny\n",
      "0             1            W\n",
      "1             2            W\n",
      "2             5            M\n",
      "3             1            W\n",
      "4             4            M\n",
      "5             3            W\n",
      "6             2            M\n",
      "7             1            W\n",
      "8             5            M\n",
      "9             2            W\n",
      "10            3            M\n",
      "11            4            M\n",
      "12            1            W\n",
      "13            2            W\n",
      "14            5            M\n",
      "15            4            M\n",
      "16            3            M\n",
      "17            1            M\n",
      "18            4            M\n",
      "19            5            W\n",
      "20            2            W\n",
      "21            5            M\n",
      "22            3            W\n",
      "23            4            W\n",
      "24            3            M\n",
      "25            2            W\n",
      "26            5            M\n",
      "27            1            W\n"
     ]
    }
   ],
   "execution_count": 19
  }
 ],
 "metadata": {
  "kernelspec": {
   "display_name": "Python 3",
   "language": "python",
   "name": "python3"
  },
  "language_info": {
   "codemirror_mode": {
    "name": "ipython",
    "version": 2
   },
   "file_extension": ".py",
   "mimetype": "text/x-python",
   "name": "python",
   "nbconvert_exporter": "python",
   "pygments_lexer": "ipython2",
   "version": "2.7.6"
  }
 },
 "nbformat": 4,
 "nbformat_minor": 5
}
