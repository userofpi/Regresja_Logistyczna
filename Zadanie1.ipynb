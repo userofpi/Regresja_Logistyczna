{
 "cells": [
  {
   "cell_type": "code",
   "id": "initial_id",
   "metadata": {
    "collapsed": true,
    "ExecuteTime": {
     "end_time": "2024-12-12T22:23:52.186589Z",
     "start_time": "2024-12-12T22:23:52.072302Z"
    }
   },
   "source": [
    "from sklearn.metrics import classification_report, confusion_matrix\n",
    "from sklearn.model_selection import train_test_split\n",
    "from sklearn.linear_model import LogisticRegression\n",
    "from sklearn.metrics import roc_curve, roc_auc_score\n",
    "from sklearn.model_selection import GridSearchCV\n",
    "from sklearn.model_selection import RandomizedSearchCV\n",
    "import pandas as pd\n",
    "import numpy as np\n",
    "\n",
    "# dane\n",
    "data = pd.read_csv('Stan_cywilny.csv', sep=';', header=0)\n",
    "\n",
    "\n",
    "# logistyczna regresja\n",
    "# p - prawdopodobieństwo przynależności do klasy 1\n",
    "# linia decyzyjna\n",
    "# logreg = LogisticRegression()\n",
    "\n",
    "# predict_proba - zwraca prawdopodobieństwo przynależności do klasy 0 i 1\n",
    "# 2 dimmensional array\n",
    "# druga kolumna - prawdopodobieństwo przynależności do positive class\n",
    "# threshold - 0.5 - domyślny próg odcięcia dla klasyfikatora binarnego\n",
    "# krzywa ROC - Receiver Operating Characteristic\n",
    "# fpr- false positive rate\n",
    "# tpr- true positive rate\n",
    "\n",
    "# zeby uzykac tylko positive class\n",
    "#y_pred_probs = logreg.predict_proba(X_test)[:, 1]\n",
    "# print(classification_report(y_test, y_pred))\n",
    "# wyswietli precision, recall, f1-score, support\n",
    "# optymalizacja - zmiana thresholdu\n",
    "# uzyj cross validation\n",
    "# grid search\n",
    "#print(\"Tuned Logistic Regression Parameters: {}\".format(logreg_cv.best_params_))\n",
    "#print(\"Tuned Logistic Regression Best Accuracy Score: {}\".format(logreg_cv.best_score_))\n",
    "\n",
    "# data\n",
    "print(data)\n",
    "# change M to 1 and W to 0\n",
    "data['Stan_cywilny'] = data['Stan_cywilny'].map({'M': 1, 'W': 0})\n",
    "print(data)\n",
    "\n",
    "# model - regresja logistyczna\n",
    "logreg= LogisticRegression()\n",
    "X_train, X_test, y_train, y_test = train_test_split(data[['Rok_studiow']], data['Stan_cywilny'], test_size=0.3, random_state=0)\n",
    "\n",
    "logreg.fit(X_train, y_train)\n",
    "y_pred = logreg.predict(X_test)\n",
    "print(classification_report(y_test, y_pred))\n",
    "# confusion matrix\n",
    "print(confusion_matrix(y_test, y_pred))\n",
    "# prawdopodobieństwo przynależności do klasy 0 i 1\n",
    "y_pred_probs = logreg.predict_proba(X_test)[:, 1]\n",
    "print(y_pred_probs)\n",
    "# auc\n",
    "print(roc_auc_score(y_test, y_pred_probs))\n",
    "# krzywa roc\n",
    "fpr, tpr, thresholds = roc_curve(y_test, y_pred_probs)\n",
    "\n",
    "\n",
    "# wykres\n",
    "import matplotlib.pyplot as plt\n",
    "plt.plot(fpr, tpr)\n",
    "plt.xlabel('False Positive Rate')\n",
    "plt.ylabel('True Positive Rate')\n",
    "plt.title('ROC Curve')\n",
    "plt.show()\n",
    "print(X_test)\n",
    "print(y_pred)\n",
    "\n"
   ],
   "outputs": [
    {
     "name": "stdout",
     "output_type": "stream",
     "text": [
      "    Rok_studiow Stan_cywilny\n",
      "0             1            W\n",
      "1             2            W\n",
      "2             5            M\n",
      "3             1            W\n",
      "4             4            M\n",
      "5             3            W\n",
      "6             2            M\n",
      "7             1            W\n",
      "8             5            M\n",
      "9             2            W\n",
      "10            3            M\n",
      "11            4            M\n",
      "12            1            W\n",
      "13            2            W\n",
      "14            5            M\n",
      "15            4            M\n",
      "16            3            M\n",
      "17            1            M\n",
      "18            4            M\n",
      "19            5            W\n",
      "20            2            W\n",
      "21            5            M\n",
      "22            3            W\n",
      "23            4            W\n",
      "24            3            M\n",
      "25            2            W\n",
      "26            5            M\n",
      "27            1            W\n",
      "    Rok_studiow  Stan_cywilny\n",
      "0             1             0\n",
      "1             2             0\n",
      "2             5             1\n",
      "3             1             0\n",
      "4             4             1\n",
      "5             3             0\n",
      "6             2             1\n",
      "7             1             0\n",
      "8             5             1\n",
      "9             2             0\n",
      "10            3             1\n",
      "11            4             1\n",
      "12            1             0\n",
      "13            2             0\n",
      "14            5             1\n",
      "15            4             1\n",
      "16            3             1\n",
      "17            1             1\n",
      "18            4             1\n",
      "19            5             0\n",
      "20            2             0\n",
      "21            5             1\n",
      "22            3             0\n",
      "23            4             0\n",
      "24            3             1\n",
      "25            2             0\n",
      "26            5             1\n",
      "27            1             0\n",
      "              precision    recall  f1-score   support\n",
      "\n",
      "           0       0.67      1.00      0.80         4\n",
      "           1       1.00      0.60      0.75         5\n",
      "\n",
      "    accuracy                           0.78         9\n",
      "   macro avg       0.83      0.80      0.78         9\n",
      "weighted avg       0.85      0.78      0.77         9\n",
      "\n",
      "[[4 0]\n",
      " [2 3]]\n",
      "[0.85121069 0.48896249 0.85121069 0.13794752 0.48896249 0.70056412\n",
      " 0.48896249 0.28124386 0.28124386]\n",
      "0.75\n"
     ]
    },
    {
     "data": {
      "text/plain": [
       "<Figure size 640x480 with 1 Axes>"
      ],
      "image/png": "[encoded data removed]"
     },
     "metadata": {},
     "output_type": "display_data"
    },
    {
     "name": "stdout",
     "output_type": "stream",
     "text": [
      "    Rok_studiow\n",
      "2             5\n",
      "22            3\n",
      "14            5\n",
      "17            1\n",
      "5             3\n",
      "11            4\n",
      "24            3\n",
      "13            2\n",
      "20            2\n",
      "[1 0 1 0 0 1 0 0 0]\n"
     ]
    }
   ],
   "execution_count": 46
  },
  {
   "metadata": {
    "ExecuteTime": {
     "end_time": "2024-12-12T22:02:09.256739Z",
     "start_time": "2024-12-12T22:02:08.310296Z"
    }
   },
   "cell_type": "code",
   "source": [
    "#\n",
    "\n"
   ],
   "id": "1aa4cb6f48169b9b",
   "outputs": [
    {
     "data": {
      "text/plain": [
       "<matplotlib.collections.PathCollection at 0x1ec2279aff0>"
      ]
     },
     "execution_count": 30,
     "metadata": {},
     "output_type": "execute_result"
    },
    {
     "data": {
      "text/plain": [
       "<Figure size 640x480 with 1 Axes>"
      ],
      "image/png": "[encoded data removed]"
     },
     "metadata": {},
     "output_type": "display_data"
    }
   ],
   "execution_count": 30
  }
 ],
 "metadata": {
  "kernelspec": {
   "display_name": "Python 3",
   "language": "python",
   "name": "python3"
  },
  "language_info": {
   "codemirror_mode": {
    "name": "ipython",
    "version": 2
   },
   "file_extension": ".py",
   "mimetype": "text/x-python",
   "name": "python",
   "nbconvert_exporter": "python",
   "pygments_lexer": "ipython2",
   "version": "2.7.6"
  }
 },
 "nbformat": 4,
 "nbformat_minor": 5
}
