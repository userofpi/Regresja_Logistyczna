{
 "cells": [
  {
   "cell_type": "code",
   "id": "initial_id",
   "metadata": {
    "collapsed": true,
    "ExecuteTime": {
     "end_time": "2025-01-06T22:12:37.302570Z",
     "start_time": "2025-01-06T22:12:37.281705Z"
    }
   },
   "source": [
    "from sklearn.model_selection import train_test_split\n",
    "import pandas as pd\n",
    "import numpy as np\n",
    "import statsmodels.api as sm\n",
    "\n",
    "# Wczytaj dane\n",
    "data = pd.read_csv('platki_dane_zad4.csv', sep=';', header=0)\n",
    "\n",
    "# Upewnij się, że dane są liczbowe\n",
    "data[['cukry', 'weglowodany', 'proteiny', 'tluszcz', 'sod', 'blonnik', 'potas', 'kalorie']] = \\\n",
    "    data[['cukry', 'weglowodany', 'proteiny', 'tluszcz', 'sod', 'blonnik', 'potas', 'kalorie']].apply(pd.to_numeric, errors='coerce')\n",
    "\n",
    "# Usuń brakujące dane\n",
    "data = data.dropna()\n",
    "# usuń nade ktore cukry są równe zero\n",
    "print(data.info())\n",
    "# Przygotuj dane wejściowe\n",
    "X = data[['cukry', 'weglowodany', 'proteiny', 'tluszcz', 'sod', 'blonnik', 'potas']]\n",
    "y = data[['kalorie']]\n",
    "\n"
   ],
   "outputs": [
    {
     "name": "stdout",
     "output_type": "stream",
     "text": [
      "<class 'pandas.core.frame.DataFrame'>\n",
      "Index: 72 entries, 0 to 76\n",
      "Data columns (total 15 columns):\n",
      " #   Column        Non-Null Count  Dtype  \n",
      "---  ------        --------------  -----  \n",
      " 0   nazwa         72 non-null     object \n",
      " 1   producent     72 non-null     object \n",
      " 2   kalorie       72 non-null     int64  \n",
      " 3   cukry         72 non-null     int64  \n",
      " 4   weglowodany   72 non-null     float64\n",
      " 5   proteiny      72 non-null     int64  \n",
      " 6   tluszcz       72 non-null     int64  \n",
      " 7   sod           72 non-null     int64  \n",
      " 8   blonnik       72 non-null     float64\n",
      " 9   potas         72 non-null     int64  \n",
      " 10  Liczba_polek  72 non-null     int64  \n",
      " 11  srodk_polka   72 non-null     object \n",
      " 12  polka_1       72 non-null     int64  \n",
      " 13  polka_2       72 non-null     int64  \n",
      " 14  polka_3       72 non-null     int64  \n",
      "dtypes: float64(2), int64(10), object(3)\n",
      "memory usage: 9.0+ KB\n",
      "None\n"
     ]
    }
   ],
   "execution_count": 54
  },
  {
   "metadata": {
    "ExecuteTime": {
     "end_time": "2025-01-06T22:12:37.341409Z",
     "start_time": "2025-01-06T22:12:37.310652Z"
    }
   },
   "cell_type": "code",
   "source": [
    "# podział danych na trzy zbiory UCZACY, WALIDACYJNY, TESTOWY\n",
    "\n",
    "# Podział na zbiór treningowy i testowy\n",
    "X_train, X_walidacyjne, y_train, y_walidacyjne = train_test_split(X, y, test_size=0.5, random_state=42)\n",
    "\n",
    "column_names = X_train.columns  # This sets column_names to the actual feature names\n",
    "\n",
    "\n",
    "X_walidacyjne, X_test, y_walidacyjne, y_test = train_test_split(X_walidacyjne, y_walidacyjne, test_size=0.5, random_state=42)\n",
    "print(column_names)\n",
    "\n",
    "\n",
    "\n",
    "# PIERWSZY MODEL Z WSZYTSKIMI PARAMETRAMI LICZBOWYMI\n",
    "# MODEL MA ZA ZADANIE PRZEWIDZIEĆ NA PODSTAWIE PARAMETRÓW KALOWYCZNOSC\n",
    "# Dodaj stałą do modelu\n",
    "X_train = sm.add_constant(X_train)\n",
    "X_walidacyjne = sm.add_constant(X_walidacyjne)\n",
    "\n",
    "# Dopasowanie modelu\n",
    "wynik = sm.OLS(y_train, X_train).fit()\n",
    "print(wynik.summary())\n",
    "\n",
    "#korelacje paramrtow\n",
    "\n",
    "print(data[['cukry', 'weglowodany', 'proteiny', 'tluszcz', 'sod', 'blonnik', 'potas', 'kalorie']].corr())\n",
    "\n"
   ],
   "id": "c97a96a727b3b867",
   "outputs": [
    {
     "name": "stdout",
     "output_type": "stream",
     "text": [
      "Index(['cukry', 'weglowodany', 'proteiny', 'tluszcz', 'sod', 'blonnik',\n",
      "       'potas'],\n",
      "      dtype='object')\n",
      "                            OLS Regression Results                            \n",
      "==============================================================================\n",
      "Dep. Variable:                kalorie   R-squared:                       0.962\n",
      "Model:                            OLS   Adj. R-squared:                  0.953\n",
      "Method:                 Least Squares   F-statistic:                     101.4\n",
      "Date:                Mon, 06 Jan 2025   Prob (F-statistic):           3.47e-18\n",
      "Time:                        23:12:37   Log-Likelihood:                -103.73\n",
      "No. Observations:                  36   AIC:                             223.5\n",
      "Df Residuals:                      28   BIC:                             236.1\n",
      "Df Model:                           7                                         \n",
      "Covariance Type:            nonrobust                                         \n",
      "===============================================================================\n",
      "                  coef    std err          t      P>|t|      [0.025      0.975]\n",
      "-------------------------------------------------------------------------------\n",
      "const          -4.7504      5.656     -0.840      0.408     -16.336       6.835\n",
      "cukry           3.9813      0.237     16.809      0.000       3.496       4.466\n",
      "weglowodany     4.2576      0.355     12.004      0.000       3.531       4.984\n",
      "proteiny        3.6983      1.635      2.261      0.032       0.348       7.048\n",
      "tluszcz         8.8598      0.960      9.231      0.000       6.894      10.826\n",
      "sod             0.0067      0.013      0.517      0.610      -0.020       0.033\n",
      "blonnik         0.9040      0.937      0.964      0.343      -1.016       2.824\n",
      "potas          -0.0118      0.036     -0.329      0.745      -0.085       0.062\n",
      "==============================================================================\n",
      "Omnibus:                       18.991   Durbin-Watson:                   2.021\n",
      "Prob(Omnibus):                  0.000   Jarque-Bera (JB):               33.065\n",
      "Skew:                           1.274   Prob(JB):                     6.61e-08\n",
      "Kurtosis:                       6.944   Cond. No.                     1.44e+03\n",
      "==============================================================================\n",
      "\n",
      "Notes:\n",
      "[1] Standard Errors assume that the covariance matrix of the errors is correctly specified.\n",
      "[2] The condition number is large, 1.44e+03. This might indicate that there are\n",
      "strong multicollinearity or other numerical problems.\n",
      "                cukry  weglowodany  proteiny   tluszcz       sod   blonnik  \\\n",
      "cukry        1.000000    -0.460999 -0.302288  0.289176  0.047451 -0.133178   \n",
      "weglowodany -0.460999     1.000000 -0.018152 -0.276522  0.320362 -0.396516   \n",
      "proteiny    -0.302288    -0.018152  1.000000  0.185327 -0.001930  0.515647   \n",
      "tluszcz      0.289176    -0.276522  0.185327  1.000000  0.019302  0.019772   \n",
      "sod          0.047451     0.320362 -0.001930  0.019302  1.000000 -0.061467   \n",
      "blonnik     -0.133178    -0.396516  0.515647  0.019772 -0.061467  1.000000   \n",
      "potas        0.025755    -0.380725  0.561373  0.188834 -0.025023  0.907630   \n",
      "kalorie      0.565274     0.271385  0.025989  0.509224  0.299252 -0.290043   \n",
      "\n",
      "                potas   kalorie  \n",
      "cukry        0.025755  0.565274  \n",
      "weglowodany -0.380725  0.271385  \n",
      "proteiny     0.561373  0.025989  \n",
      "tluszcz      0.188834  0.509224  \n",
      "sod         -0.025023  0.299252  \n",
      "blonnik      0.907630 -0.290043  \n",
      "potas        1.000000 -0.068439  \n",
      "kalorie     -0.068439  1.000000  \n"
     ]
    }
   ],
   "execution_count": 55
  },
  {
   "metadata": {
    "ExecuteTime": {
     "end_time": "2025-01-06T22:12:37.369388Z",
     "start_time": "2025-01-06T22:12:37.367021Z"
    }
   },
   "cell_type": "code",
   "source": "",
   "id": "f0a5b53a1a332496",
   "outputs": [],
   "execution_count": null
  },
  {
   "metadata": {
    "ExecuteTime": {
     "end_time": "2025-01-06T22:12:37.422248Z",
     "start_time": "2025-01-06T22:12:37.403426Z"
    }
   },
   "cell_type": "code",
   "source": [
    "# odrzucamy potas\n",
    "# X=sm.add_constant(X_train[['cukry', 'weglowodany', 'proteiny', 'tluszcz', 'sod', 'blonnik']])\n",
    "# y=y_train['kalorie']\n",
    "# wynik= sm.OLS(y, X).fit()\n",
    "# print(wynik.summary())\n",
    "# odrzucamy sod 0.635\n",
    "# X=sm.add_constant(X_train[['cukry', 'weglowodany', 'proteiny', 'tluszcz', 'blonnik']])\n",
    "# y=y_train['kalorie']\n",
    "# wynik= sm.OLS(y, X).fit()\n",
    "# print(wynik.summary())\n",
    "\n",
    "\n",
    "# odrzucamy stałą\n",
    "# X=X_train[['cukry', 'weglowodany', 'proteiny', 'tluszcz', 'blonnik']]\n",
    "# y=y_train['kalorie']\n",
    "# wynik= sm.OLS(y, X).fit()\n",
    "# print(wynik.summary())\n",
    "\n",
    "# odrzucamy blonnik 0.151\n",
    "# wynik= sm.OLS(y_train, X_train[['cukry', 'weglowodany', 'proteiny', 'tluszcz']]).fit()\n",
    "# print(wynik.summary())\n",
    "\n",
    "# korelacje modelu\n",
    "print(data[['cukry', 'weglowodany', 'proteiny', 'tluszcz', 'kalorie']].corr())\n",
    "#\n",
    "# Zostawiamy Kalorie cykry i tłuszcz\n",
    "\n",
    "wynik= sm.OLS(y_train, X_train[['cukry', 'tluszcz']]).fit()\n",
    "print(wynik.summary())\n",
    "\n",
    "\n"
   ],
   "id": "556ba257d60a9fa4",
   "outputs": [
    {
     "name": "stdout",
     "output_type": "stream",
     "text": [
      "                cukry  weglowodany  proteiny   tluszcz   kalorie\n",
      "cukry        1.000000    -0.460999 -0.302288  0.289176  0.565274\n",
      "weglowodany -0.460999     1.000000 -0.018152 -0.276522  0.271385\n",
      "proteiny    -0.302288    -0.018152  1.000000  0.185327  0.025989\n",
      "tluszcz      0.289176    -0.276522  0.185327  1.000000  0.509224\n",
      "kalorie      0.565274     0.271385  0.025989  0.509224  1.000000\n",
      "                                 OLS Regression Results                                \n",
      "=======================================================================================\n",
      "Dep. Variable:                kalorie   R-squared (uncentered):                   0.776\n",
      "Model:                            OLS   Adj. R-squared (uncentered):              0.763\n",
      "Method:                 Least Squares   F-statistic:                              58.94\n",
      "Date:                Mon, 06 Jan 2025   Prob (F-statistic):                    8.91e-12\n",
      "Time:                        23:12:37   Log-Likelihood:                         -192.19\n",
      "No. Observations:                  36   AIC:                                      388.4\n",
      "Df Residuals:                      34   BIC:                                      391.6\n",
      "Df Model:                           2                                                  \n",
      "Covariance Type:            nonrobust                                                  \n",
      "==============================================================================\n",
      "                 coef    std err          t      P>|t|      [0.025      0.975]\n",
      "------------------------------------------------------------------------------\n",
      "cukry          9.7116      1.459      6.657      0.000       6.747      12.676\n",
      "tluszcz       17.0765      8.452      2.020      0.051      -0.101      34.254\n",
      "==============================================================================\n",
      "Omnibus:                        8.027   Durbin-Watson:                   1.451\n",
      "Prob(Omnibus):                  0.018   Jarque-Bera (JB):                2.741\n",
      "Skew:                          -0.304   Prob(JB):                        0.254\n",
      "Kurtosis:                       1.792   Cond. No.                         7.83\n",
      "==============================================================================\n",
      "\n",
      "Notes:\n",
      "[1] R² is computed without centering (uncentered) since the model does not contain a constant.\n",
      "[2] Standard Errors assume that the covariance matrix of the errors is correctly specified.\n"
     ]
    }
   ],
   "execution_count": 56
  },
  {
   "metadata": {
    "ExecuteTime": {
     "end_time": "2025-01-06T22:12:37.668062Z",
     "start_time": "2025-01-06T22:12:37.508867Z"
    }
   },
   "cell_type": "code",
   "source": [
    "from matplotlib import pyplot as plt\n",
    "from sklearn.metrics import mean_absolute_error, r2_score, mean_squared_error\n",
    "\n",
    "\n",
    "# Define the calculation functions\n",
    "def calculate_mae(y_true, y_pred):\n",
    "    return mean_absolute_error(y_true, y_pred)\n",
    "def calculate_rmse(y_true, y_pred):\n",
    "    return np.sqrt(mean_squared_error(y_true, y_pred))\n",
    "def calculate_r2(y_true, y_pred):\n",
    "    return r2_score(y_true, y_pred)\n",
    "def calculate_me(y_true, y_pred):\n",
    "    return np.mean(y_true - y_pred)\n",
    "def calculate_mpe(y_true, y_pred):\n",
    "    return np.mean((y_true - y_pred) / y_true)\n",
    "def calculate_mape(y_true, y_pred):\n",
    "    return np.mean(np.abs(y_true - y_pred) / y_true)\n",
    "def calculate_u2(y_true, y_pred):\n",
    "    return np.sum((y_true - y_pred) ** 2) / np.sum((y_true - np.mean(y_true)) ** 2)\n",
    "def calculate_um(y_true, y_pred):\n",
    "    return np.sum((y_true - y_pred) ** 2) / np.sum(np.abs(y_true - np.mean(y_true)))\n",
    "def calculate_ur(y_true, y_pred):\n",
    "    return np.sum((y_true - y_pred) ** 2) / np.sum((np.abs(y_true) + np.abs(y_pred)) ** 2)\n",
    "def calculate_ud(y_true, y_pred):\n",
    "    return np.sum((y_true - y_pred) ** 2) / np.sum((np.abs(y_true) + np.abs(y_pred)) / 2)\n",
    "\n",
    "y_walidacyjne_pred = wynik.predict(X_walidacyjne[['cukry', 'tluszcz']])\n",
    "\n",
    "y_walidacyjne_1 = y_walidacyjne.squeeze()\n",
    "y_walidacyjne_pred = y_walidacyjne_pred.squeeze()\n",
    "\n",
    "\n",
    "\n",
    "for i in range(len(y_walidacyjne_pred)):\n",
    "    # Safely fetch actual values\n",
    "    rzeczywiste = y_walidacyjne.iloc[i, 0] if isinstance(y_walidacyjne, pd.DataFrame) else y_walidacyjne.iloc[i]\n",
    "    print(f\"Rzeczywiste: {rzeczywiste}\")\n",
    "\n",
    "    # Use .iloc for positional indexing on y_walidacyjne_pred\n",
    "    predykcja = y_walidacyjne_pred.iloc[i]\n",
    "    print(f\"Predykcja: {predykcja}\")\n",
    "    print(\"--------------------------------\")\n",
    "\n",
    "# Predictions for validation data\n",
    "# wypisac dane rzeczywiste i predykcyjne dla kazdego recordu\n",
    "\n",
    "\n",
    "# Create a dictionary of metric functions\n",
    "metrics = {\n",
    "    \"MAE\": calculate_mae,\n",
    "    \"RMSE\": calculate_rmse,\n",
    "    \"ME\": calculate_me,\n",
    "    \"MPE\": calculate_mpe,\n",
    "    \"MAPE\": calculate_mape,\n",
    "    \"U2\": calculate_u2,\n",
    "    \"UM\": calculate_um,\n",
    "    \"UR\": calculate_ur,\n",
    "    \"UD\": calculate_ud\n",
    "}\n",
    "\n",
    "# Calculate each metric and store the result\n",
    "results = {name: func(y_walidacyjne_1, y_walidacyjne_pred) for name, func in metrics.items()}\n",
    "\n",
    "# Print the results\n",
    "for name, value in results.items():\n",
    "    print(f\"{name}: {value}\")\n",
    "\n",
    "\n",
    "print(X_walidacyjne[['tluszcz', 'cukry']], y_walidacyjne_1 , y_walidacyjne_pred)\n",
    "\n",
    "plt.scatter(y_walidacyjne_1, y_walidacyjne_pred)\n",
    "plt.xlabel(\"Rzeczywiste\")\n",
    "plt.ylabel(\"Predykcja\")\n",
    "plt.title(\"Wykres predykcji i rzeczywistego\")\n",
    "plt.show()\n"
   ],
   "id": "b367a15f510f619a",
   "outputs": [
    {
     "name": "stdout",
     "output_type": "stream",
     "text": [
      "Rzeczywiste: 100\n",
      "Predykcja: 65.6343786185221\n",
      "--------------------------------\n",
      "Rzeczywiste: 110\n",
      "Predykcja: 29.134744901576198\n",
      "--------------------------------\n",
      "Rzeczywiste: 100\n",
      "Predykcja: 46.211215350804636\n",
      "--------------------------------\n",
      "Rzeczywiste: 110\n",
      "Predykcja: 119.21048278469644\n",
      "--------------------------------\n",
      "Rzeczywiste: 100\n",
      "Predykcja: 67.98107143701114\n",
      "--------------------------------\n",
      "Rzeczywiste: 70\n",
      "Predykcja: 75.34596025238083\n",
      "--------------------------------\n",
      "Rzeczywiste: 80\n",
      "Predykcja: 0.0\n",
      "--------------------------------\n",
      "Rzeczywiste: 160\n",
      "Predykcja: 160.4035021386204\n",
      "--------------------------------\n",
      "Rzeczywiste: 150\n",
      "Predykcja: 158.05680932013138\n",
      "--------------------------------\n",
      "Rzeczywiste: 140\n",
      "Predykcja: 102.13401233546801\n",
      "--------------------------------\n",
      "Rzeczywiste: 110\n",
      "Predykcja: 106.82739797244606\n",
      "--------------------------------\n",
      "Rzeczywiste: 120\n",
      "Predykcja: 90.07573788312024\n",
      "--------------------------------\n",
      "Rzeczywiste: 90\n",
      "Predykcja: 75.34596025238083\n",
      "--------------------------------\n",
      "Rzeczywiste: 110\n",
      "Predykcja: 43.864522532315604\n",
      "--------------------------------\n",
      "Rzeczywiste: 90\n",
      "Predykcja: 0.0\n",
      "--------------------------------\n",
      "Rzeczywiste: 120\n",
      "Predykcja: 140.98033887090293\n",
      "--------------------------------\n",
      "Rzeczywiste: 110\n",
      "Predykcja: 135.96214287402228\n",
      "--------------------------------\n",
      "Rzeczywiste: 110\n",
      "Predykcja: 104.48070515395703\n",
      "--------------------------------\n",
      "MAE: 33.23719387795291\n",
      "RMSE: 43.70976885268776\n",
      "ME: 25.46394540675799\n",
      "MPE: 0.2595884239298087\n",
      "MAPE: 0.3292764362474083\n",
      "U2: 3.907930690545122\n",
      "UM: 122.82067884570382\n",
      "UR: 0.045398621715974134\n",
      "UD: 19.642054498845205\n",
      "    tluszcz  cukry\n",
      "32        1      5\n",
      "67        0      3\n",
      "74        1      3\n",
      "19        3      7\n",
      "26        0      7\n",
      "0         1      6\n",
      "63        0      0\n",
      "46        2     13\n",
      "44        3     11\n",
      "49        2      7\n",
      "37        0     11\n",
      "34        3      4\n",
      "8         1      6\n",
      "11        2      1\n",
      "64        0      0\n",
      "35        2     11\n",
      "6         0     14\n",
      "31        1      9 32    100\n",
      "67    110\n",
      "74    100\n",
      "19    110\n",
      "26    100\n",
      "0      70\n",
      "63     80\n",
      "46    160\n",
      "44    150\n",
      "49    140\n",
      "37    110\n",
      "34    120\n",
      "8      90\n",
      "11    110\n",
      "64     90\n",
      "35    120\n",
      "6     110\n",
      "31    110\n",
      "Name: kalorie, dtype: int64 32     65.634379\n",
      "67     29.134745\n",
      "74     46.211215\n",
      "19    119.210483\n",
      "26     67.981071\n",
      "0      75.345960\n",
      "63      0.000000\n",
      "46    160.403502\n",
      "44    158.056809\n",
      "49    102.134012\n",
      "37    106.827398\n",
      "34     90.075738\n",
      "8      75.345960\n",
      "11     43.864523\n",
      "64      0.000000\n",
      "35    140.980339\n",
      "6     135.962143\n",
      "31    104.480705\n",
      "dtype: float64\n"
     ]
    },
    {
     "data": {
      "text/plain": [
       "<Figure size 640x480 with 1 Axes>"
      ],
      "image/png": "[encoded data removed]"
     },
     "metadata": {},
     "output_type": "display_data"
    }
   ],
   "execution_count": 57
  },
  {
   "metadata": {
    "ExecuteTime": {
     "end_time": "2025-01-06T22:12:38.061158Z",
     "start_time": "2025-01-06T22:12:37.699371Z"
    }
   },
   "cell_type": "code",
   "source": [
    "\n",
    "\n",
    "# Predykcja na danych testowych\n",
    "y_test_pred = wynik.predict(X_test[['cukry', 'tluszcz']])\n",
    "\n",
    "# Obliczanie metryk\n",
    "mse = mean_squared_error(y_test, y_test_pred)\n",
    "rmse = np.sqrt(mse)\n",
    "mae = mean_absolute_error(y_test, y_test_pred)\n",
    "r2 = r2_score(y_test, y_test_pred)\n",
    "\n",
    "# Metryki błędów względnych\n",
    "me = calculate_me(y_test, y_test_pred)\n",
    "mpe = calculate_mpe(y_test, y_test_pred)\n",
    "mape = calculate_mape(y_test, y_test_pred)\n",
    "\n",
    "# Wyświetlenie wyników\n",
    "print(\"Metryki ewaluacji na danych testowych:\")\n",
    "print(f\"MSE: {mse:.2f}\")\n",
    "print(f\"RMSE: {rmse:.2f}\")\n",
    "print(f\"MAE: {mae:.2f}\")\n",
    "print(f\"ME: {me:.2f}\")\n",
    "print(f\"MPE: {mpe:.2%}\")\n",
    "print(f\"MAPE: {mape:.2%}\")\n",
    "\n",
    "# Wykres rzeczywistych wartości vs przewidywane\n",
    "plt.figure(figsize=(8, 6))\n",
    "plt.scatter(y_test, y_test_pred, color='blue', alpha=0.7, label='Predykcje')\n",
    "plt.plot([y_test.min(), y_test.max()], [y_test.min(), y_test.max()], color='red', lw=2, label='Idealna linia')\n",
    "plt.xlabel(\"Rzeczywiste wartości\")\n",
    "plt.ylabel(\"Przewidywane wartości\")\n",
    "plt.title(\"Porównanie rzeczywistych wartości z przewidywanymi (Dane testowe)\")\n",
    "plt.legend()\n",
    "plt.grid(True)\n",
    "plt.show()\n",
    "\n",
    "# Rozkład błędów\n",
    "errors = y_test.squeeze() - y_test_pred\n",
    "plt.figure(figsize=(8, 6))\n",
    "plt.hist(errors, bins=30, edgecolor='black', color='purple', alpha=0.7)\n",
    "plt.xlabel(\"Błąd predykcji\")\n",
    "plt.ylabel(\"Częstość\")\n",
    "plt.title(\"Rozkład błędów predykcji (Dane testowe)\")\n",
    "plt.grid(True)\n",
    "plt.show()\n",
    "\n",
    "# Wypisanie rzeczywistych i przewidywanych wartości dla każdego rekordu\n",
    "print(\"\\nRzeczywiste i przewidywane wartości:\")\n",
    "for i in range(len(y_test)):\n",
    "    rzeczywiste = y_test.iloc[i, 0]\n",
    "    predykcja = y_test_pred.iloc[i]\n",
    "    print(f\"Rzeczywiste: {rzeczywiste:.2f}, Predykcja: {predykcja:.2f}, Błąd: {rzeczywiste - predykcja:.2f}\")\n",
    "\n",
    "\n"
   ],
   "id": "f1433fd94b4eb302",
   "outputs": [
    {
     "name": "stdout",
     "output_type": "stream",
     "text": [
      "Metryki ewaluacji na danych testowych:\n",
      "MSE: 1809.46\n",
      "RMSE: 42.54\n",
      "MAE: 32.32\n",
      "ME: nan\n",
      "MPE: nan%\n",
      "MAPE: nan%\n"
     ]
    },
    {
     "data": {
      "text/plain": [
       "<Figure size 800x600 with 1 Axes>"
      ],
      "image/png": "[encoded data removed]"
     },
     "metadata": {},
     "output_type": "display_data"
    },
    {
     "data": {
      "text/plain": [
       "<Figure size 800x600 with 1 Axes>"
      ],
      "image/png": "[encoded data removed]"
     },
     "metadata": {},
     "output_type": "display_data"
    },
    {
     "name": "stdout",
     "output_type": "stream",
     "text": [
      "\n",
      "Rzeczywiste i przewidywane wartości:\n",
      "Rzeczywiste: 110.00, Predykcja: 143.33, Błąd: -33.33\n",
      "Rzeczywiste: 100.00, Predykcja: 75.35, Błąd: 24.65\n",
      "Rzeczywiste: 90.00, Predykcja: 58.27, Błąd: 31.73\n",
      "Rzeczywiste: 110.00, Predykcja: 94.77, Błąd: 15.23\n",
      "Rzeczywiste: 110.00, Predykcja: 19.42, Błąd: 90.58\n",
      "Rzeczywiste: 100.00, Predykcja: 0.00, Błąd: 100.00\n",
      "Rzeczywiste: 110.00, Predykcja: 116.54, Błąd: -6.54\n",
      "Rzeczywiste: 120.00, Predykcja: 150.69, Błąd: -30.69\n",
      "Rzeczywiste: 110.00, Predykcja: 102.13, Błąd: 7.87\n",
      "Rzeczywiste: 120.00, Predykcja: 153.04, Błąd: -33.04\n",
      "Rzeczywiste: 120.00, Predykcja: 133.62, Błąd: -13.62\n",
      "Rzeczywiste: 110.00, Predykcja: 133.62, Błąd: -23.62\n",
      "Rzeczywiste: 110.00, Predykcja: 111.85, Błąd: -1.85\n",
      "Rzeczywiste: 110.00, Predykcja: 133.62, Błąd: -23.62\n",
      "Rzeczywiste: 120.00, Predykcja: 104.48, Błąd: 15.52\n",
      "Rzeczywiste: 100.00, Predykcja: 48.56, Błąd: 51.44\n",
      "Rzeczywiste: 100.00, Predykcja: 92.42, Błąd: 7.58\n",
      "Rzeczywiste: 100.00, Predykcja: 29.13, Błąd: 70.87\n"
     ]
    }
   ],
   "execution_count": 58
  },
  {
   "metadata": {
    "ExecuteTime": {
     "end_time": "2025-01-06T22:12:38.093627Z",
     "start_time": "2025-01-06T22:12:38.089625Z"
    }
   },
   "cell_type": "code",
   "source": [
    "#wartosci cukrów ktrorych wartosc jest = 0\n",
    "# mimo R^2 większyc niz 0.7\n",
    "# patrząc na model dostrzegamy\n",
    "# wyraźne rozbieżnosci błędów tj. zdarza się że model dopaduje się odpowiednio do\n",
    "# danych a innym razem potrafi całkowicie zakładmać obraz oraz źle oddawać zależnosc\n",
    "# zakrzywiają pogląd na model\n",
    "\n",
    "# Do zrobienia\n",
    "# 1. Model potasu (blonnik)\n",
    "# 2. model logitowy dwuga półka od kalorii(X)\n",
    "# 3. propozycja klasyfikacja płatek do producenta na podstawie składników (kalorie)"
   ],
   "id": "34c0309a319ec50e",
   "outputs": [],
   "execution_count": 59
  },
  {
   "metadata": {
    "ExecuteTime": {
     "end_time": "2025-01-06T22:12:38.142681Z",
     "start_time": "2025-01-06T22:12:38.123254Z"
    }
   },
   "cell_type": "code",
   "source": [
    "# 1. Model potasu (blonnik)\n",
    "#\n",
    "# X = data[['cukry', 'weglowodany', 'proteiny', 'tluszcz', 'sod', 'blonnik', 'kalorie']]\n",
    "# y = data[['potas']]\n",
    "#\n",
    "# X = sm.add_constant(X)\n",
    "# wynik = sm.OLS(y, X).fit()\n",
    "# print(wynik.summary())\n",
    "\n",
    "\n",
    "# # sod 0.973\n",
    "# X= data[['cukry', 'weglowodany', 'proteiny', 'tluszcz', 'blonnik', 'kalorie']]\n",
    "# y = data[['potas']]\n",
    "#\n",
    "# X = sm.add_constant(X)\n",
    "# wynik = sm.OLS(y, X).fit()\n",
    "# print(wynik.summary())\n",
    "\n",
    "\n",
    "# kalorie 0.26\n",
    "# X= data[['cukry', 'weglowodany', 'proteiny', 'tluszcz', 'blonnik']]\n",
    "# y = data[['potas']]\n",
    "#\n",
    "# X = sm.add_constant(X)\n",
    "# wynik = sm.OLS(y, X).fit()\n",
    "# print(wynik.summary())\n",
    "\n",
    "# korelacje\n",
    "# corr= data[['cukry', 'weglowodany', 'proteiny', 'tluszcz', 'blonnik', 'potas']].corr()\n",
    "# print(corr)\n",
    "\n",
    "# # blonnik jest skorelowany ujemnie z weglowodany\n",
    "# X= data[['cukry', 'proteiny', 'tluszcz', 'blonnik']]\n",
    "# y = data[['potas']]\n",
    "#\n",
    "# X = sm.add_constant(X)\n",
    "# wynik = sm.OLS(y, X).fit()\n",
    "# print(wynik.summary())\n",
    "\n",
    "# wypada stała\n",
    "# blonnik jest skorelowany ujemnie z weglowodany\n",
    "# X= data[['cukry', 'proteiny', 'tluszcz', 'blonnik']]\n",
    "# y = data[['potas']]\n",
    "#\n",
    "# wynik = sm.OLS(y, X).fit()\n",
    "# print(wynik.summary())\n",
    "\n",
    "# corr= data[['cukry', 'proteiny', 'tluszcz', 'blonnik', 'potas']].corr()\n",
    "# print(corr)\n",
    "\n",
    "# proteiny bo są najmocnej skorelowane z blonnikiem 0.51\n",
    "X_train_1= X_train[['cukry',  'tluszcz', 'blonnik']]\n",
    "y_train_1 = X_train[['potas']]\n",
    "\n",
    "wynik = sm.OLS(y_train_1, X_train_1).fit()\n",
    "print(wynik.summary())\n",
    "\n",
    "corr= data[['cukry', 'tluszcz', 'blonnik', 'potas']].corr()\n",
    "print(corr)\n",
    "\n",
    "# predictions_validation_data\n"
   ],
   "id": "fa45251e1795fff3",
   "outputs": [
    {
     "name": "stdout",
     "output_type": "stream",
     "text": [
      "                                 OLS Regression Results                                \n",
      "=======================================================================================\n",
      "Dep. Variable:                  potas   R-squared (uncentered):                   0.948\n",
      "Model:                            OLS   Adj. R-squared (uncentered):              0.944\n",
      "Method:                 Least Squares   F-statistic:                              201.9\n",
      "Date:                Mon, 06 Jan 2025   Prob (F-statistic):                    2.68e-21\n",
      "Time:                        23:12:38   Log-Likelihood:                         -171.79\n",
      "No. Observations:                  36   AIC:                                      349.6\n",
      "Df Residuals:                      33   BIC:                                      354.3\n",
      "Df Model:                           3                                                  \n",
      "Covariance Type:            nonrobust                                                  \n",
      "==============================================================================\n",
      "                 coef    std err          t      P>|t|      [0.025      0.975]\n",
      "------------------------------------------------------------------------------\n",
      "cukry          2.8161      0.881      3.196      0.003       1.024       4.609\n",
      "tluszcz       15.3745      4.883      3.148      0.003       5.439      25.310\n",
      "blonnik       28.0518      1.561     17.972      0.000      24.876      31.227\n",
      "==============================================================================\n",
      "Omnibus:                        1.062   Durbin-Watson:                   2.125\n",
      "Prob(Omnibus):                  0.588   Jarque-Bera (JB):                0.313\n",
      "Skew:                          -0.132   Prob(JB):                        0.855\n",
      "Kurtosis:                       3.373   Cond. No.                         8.04\n",
      "==============================================================================\n",
      "\n",
      "Notes:\n",
      "[1] R² is computed without centering (uncentered) since the model does not contain a constant.\n",
      "[2] Standard Errors assume that the covariance matrix of the errors is correctly specified.\n",
      "            cukry   tluszcz   blonnik     potas\n",
      "cukry    1.000000  0.289176 -0.133178  0.025755\n",
      "tluszcz  0.289176  1.000000  0.019772  0.188834\n",
      "blonnik -0.133178  0.019772  1.000000  0.907630\n",
      "potas    0.025755  0.188834  0.907630  1.000000\n"
     ]
    }
   ],
   "execution_count": 60
  },
  {
   "metadata": {
    "ExecuteTime": {
     "end_time": "2025-01-06T22:16:51.494820Z",
     "start_time": "2025-01-06T22:16:51.372079Z"
    }
   },
   "cell_type": "code",
   "source": [
    "predykcje= wynik.predict(X_walidacyjne[['cukry', 'tluszcz', 'blonnik']])\n",
    "\n",
    "print(\"MAE na walidacyjnych danych:\")\n",
    "print(calculate_mae(X_walidacyjne['potas'], predykcje))\n",
    "print(\"RMSE na walidacyjnych danych:\")\n",
    "print(calculate_rmse(X_walidacyjne['potas'], predykcje))\n",
    "print(\"MSE na walidacyjnych danych:\")\n",
    "print(calculate_me(X_walidacyjne['potas'], predykcje))\n",
    "print(\"ME na walidacyjnych danych:\")\n",
    "print(calculate_mpe(X_walidacyjne['potas'], predykcje))\n",
    "print(\"MAPE na walidacyjnych danych:\")\n",
    "print(calculate_mape(X_walidacyjne['potas'], predykcje))\n",
    "\n",
    "\n",
    "plt.scatter(X_walidacyjne['potas'], predykcje)\n",
    "#linia prosta X=Y\n",
    "plt.plot(X_walidacyjne['potas'], X_walidacyjne['potas'], color='red', lw=2)\n",
    "\n"
   ],
   "id": "df7147e6aae1fbb4",
   "outputs": [
    {
     "name": "stdout",
     "output_type": "stream",
     "text": [
      "MAE na walidacyjnych danych:\n",
      "18.679405112585144\n",
      "RMSE na walidacyjnych danych:\n",
      "22.93723605636434\n",
      "MSE na walidacyjnych danych:\n",
      "-7.010240533415025\n",
      "ME na walidacyjnych danych:\n",
      "-0.1269805262812312\n",
      "MAPE na walidacyjnych danych:\n",
      "0.257049187430953\n"
     ]
    },
    {
     "data": {
      "text/plain": [
       "[<matplotlib.lines.Line2D at 0x2ef29c560c0>]"
      ]
     },
     "execution_count": 67,
     "metadata": {},
     "output_type": "execute_result"
    },
    {
     "data": {
      "text/plain": [
       "<Figure size 640x480 with 1 Axes>"
      ],
      "image/png": "[encoded data removed]"
     },
     "metadata": {},
     "output_type": "display_data"
    }
   ],
   "execution_count": 67
  },
  {
   "metadata": {
    "ExecuteTime": {
     "end_time": "2025-01-06T22:19:23.213778Z",
     "start_time": "2025-01-06T22:19:23.049382Z"
    }
   },
   "cell_type": "code",
   "source": [
    "# TESTOWE\n",
    "predict_test = wynik.predict(X_test[['cukry', 'tluszcz', 'blonnik']])\n",
    "\n",
    "plt.scatter(X_test['potas'], X_test['blonnik'])\n"
   ],
   "id": "10ce684f525f7571",
   "outputs": [
    {
     "data": {
      "text/plain": [
       "<matplotlib.collections.PathCollection at 0x2ef29c576b0>"
      ]
     },
     "execution_count": 68,
     "metadata": {},
     "output_type": "execute_result"
    },
    {
     "data": {
      "text/plain": [
       "<Figure size 640x480 with 1 Axes>"
      ],
      "image/png": "[encoded data removed]"
     },
     "metadata": {},
     "output_type": "display_data"
    }
   ],
   "execution_count": 68
  }
 ],
 "metadata": {
  "kernelspec": {
   "display_name": "Python 3",
   "language": "python",
   "name": "python3"
  },
  "language_info": {
   "codemirror_mode": {
    "name": "ipython",
    "version": 2
   },
   "file_extension": ".py",
   "mimetype": "text/x-python",
   "name": "python",
   "nbconvert_exporter": "python",
   "pygments_lexer": "ipython2",
   "version": "2.7.6"
  }
 },
 "nbformat": 4,
 "nbformat_minor": 5
}
