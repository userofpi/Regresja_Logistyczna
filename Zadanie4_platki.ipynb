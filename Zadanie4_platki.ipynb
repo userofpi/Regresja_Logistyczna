{
 "cells": [
  {
   "cell_type": "code",
   "id": "initial_id",
   "metadata": {
    "collapsed": true,
    "ExecuteTime": {
     "end_time": "2024-12-22T12:13:13.634726Z",
     "start_time": "2024-12-22T12:13:13.619416Z"
    }
   },
   "source": [
    "from sklearn.model_selection import train_test_split\n",
    "import pandas as pd\n",
    "import numpy as np\n",
    "import statsmodels.api as sm\n",
    "\n",
    "# Wczytaj dane\n",
    "data = pd.read_csv('platki_dane_zad4.csv', sep=';', header=0)\n",
    "\n",
    "# Upewnij się, że dane są liczbowe\n",
    "data[['cukry', 'weglowodany', 'proteiny', 'tluszcz', 'sod', 'blonnik', 'potas', 'kalorie']] = \\\n",
    "    data[['cukry', 'weglowodany', 'proteiny', 'tluszcz', 'sod', 'blonnik', 'potas', 'kalorie']].apply(pd.to_numeric, errors='coerce')\n",
    "\n",
    "# Usuń brakujące dane\n",
    "data = data.dropna()\n",
    "print(data.info())\n",
    "# Przygotuj dane wejściowe\n",
    "X = data[['cukry', 'weglowodany', 'proteiny', 'tluszcz', 'sod', 'blonnik', 'potas']]\n",
    "y = data[['kalorie']]\n",
    "\n"
   ],
   "outputs": [
    {
     "name": "stdout",
     "output_type": "stream",
     "text": [
      "<class 'pandas.core.frame.DataFrame'>\n",
      "Index: 72 entries, 0 to 76\n",
      "Data columns (total 15 columns):\n",
      " #   Column        Non-Null Count  Dtype  \n",
      "---  ------        --------------  -----  \n",
      " 0   nazwa         72 non-null     object \n",
      " 1   producent     72 non-null     object \n",
      " 2   kalorie       72 non-null     int64  \n",
      " 3   cukry         72 non-null     int64  \n",
      " 4   weglowodany   72 non-null     float64\n",
      " 5   proteiny      72 non-null     int64  \n",
      " 6   tluszcz       72 non-null     int64  \n",
      " 7   sod           72 non-null     int64  \n",
      " 8   blonnik       72 non-null     float64\n",
      " 9   potas         72 non-null     int64  \n",
      " 10  Liczba_polek  72 non-null     int64  \n",
      " 11  srodk_polka   72 non-null     object \n",
      " 12  polka_1       72 non-null     int64  \n",
      " 13  polka_2       72 non-null     int64  \n",
      " 14  polka_3       72 non-null     int64  \n",
      "dtypes: float64(2), int64(10), object(3)\n",
      "memory usage: 9.0+ KB\n",
      "None\n"
     ]
    }
   ],
   "execution_count": 31
  },
  {
   "metadata": {
    "ExecuteTime": {
     "end_time": "2024-12-22T12:13:13.664483Z",
     "start_time": "2024-12-22T12:13:13.639855Z"
    }
   },
   "cell_type": "code",
   "source": [
    "# podział danych na trzy zbiory UCZACY, WALIDACYJNY, TESTOWY\n",
    "\n",
    "# Podział na zbiór treningowy i testowy\n",
    "X_train, X_walidacyjne, y_train, y_walidacyjne = train_test_split(X, y, test_size=0.5, random_state=42)\n",
    "\n",
    "column_names = X_train.columns  # This sets column_names to the actual feature names\n",
    "\n",
    "\n",
    "X_walidacyjne, X_test, y_walidacyjne, y_test = train_test_split(X_walidacyjne, y_walidacyjne, test_size=0.5, random_state=42)\n",
    "\n",
    "\n",
    "\n",
    "# PIERWSZY MODEL Z WSZYTSKIMI PARAMETRAMI LICZBOWYMI\n",
    "# MODEL MA ZA ZADANIE PRZEWIDZIEĆ NA PODSTAWIE PARAMETRÓW KALOWYCZNOSC\n",
    "# Dodaj stałą do modelu\n",
    "X_train = sm.add_constant(X_train)\n",
    "X_walidacyjne = sm.add_constant(X_walidacyjne)\n",
    "\n",
    "# Dopasowanie modelu\n",
    "wynik = sm.OLS(y_train, X_train).fit()\n",
    "print(wynik.summary())\n",
    "\n",
    "#korelacje paramrtow\n",
    "\n",
    "print(data[['cukry', 'weglowodany', 'proteiny', 'tluszcz', 'sod', 'blonnik', 'potas', 'kalorie']].corr())\n",
    "\n"
   ],
   "id": "c97a96a727b3b867",
   "outputs": [
    {
     "name": "stdout",
     "output_type": "stream",
     "text": [
      "                            OLS Regression Results                            \n",
      "==============================================================================\n",
      "Dep. Variable:                kalorie   R-squared:                       0.962\n",
      "Model:                            OLS   Adj. R-squared:                  0.953\n",
      "Method:                 Least Squares   F-statistic:                     101.4\n",
      "Date:                Sun, 22 Dec 2024   Prob (F-statistic):           3.47e-18\n",
      "Time:                        13:13:13   Log-Likelihood:                -103.73\n",
      "No. Observations:                  36   AIC:                             223.5\n",
      "Df Residuals:                      28   BIC:                             236.1\n",
      "Df Model:                           7                                         \n",
      "Covariance Type:            nonrobust                                         \n",
      "===============================================================================\n",
      "                  coef    std err          t      P>|t|      [0.025      0.975]\n",
      "-------------------------------------------------------------------------------\n",
      "const          -4.7504      5.656     -0.840      0.408     -16.336       6.835\n",
      "cukry           3.9813      0.237     16.809      0.000       3.496       4.466\n",
      "weglowodany     4.2576      0.355     12.004      0.000       3.531       4.984\n",
      "proteiny        3.6983      1.635      2.261      0.032       0.348       7.048\n",
      "tluszcz         8.8598      0.960      9.231      0.000       6.894      10.826\n",
      "sod             0.0067      0.013      0.517      0.610      -0.020       0.033\n",
      "blonnik         0.9040      0.937      0.964      0.343      -1.016       2.824\n",
      "potas          -0.0118      0.036     -0.329      0.745      -0.085       0.062\n",
      "==============================================================================\n",
      "Omnibus:                       18.991   Durbin-Watson:                   2.021\n",
      "Prob(Omnibus):                  0.000   Jarque-Bera (JB):               33.065\n",
      "Skew:                           1.274   Prob(JB):                     6.61e-08\n",
      "Kurtosis:                       6.944   Cond. No.                     1.44e+03\n",
      "==============================================================================\n",
      "\n",
      "Notes:\n",
      "[1] Standard Errors assume that the covariance matrix of the errors is correctly specified.\n",
      "[2] The condition number is large, 1.44e+03. This might indicate that there are\n",
      "strong multicollinearity or other numerical problems.\n",
      "                cukry  weglowodany  proteiny   tluszcz       sod   blonnik  \\\n",
      "cukry        1.000000    -0.460999 -0.302288  0.289176  0.047451 -0.133178   \n",
      "weglowodany -0.460999     1.000000 -0.018152 -0.276522  0.320362 -0.396516   \n",
      "proteiny    -0.302288    -0.018152  1.000000  0.185327 -0.001930  0.515647   \n",
      "tluszcz      0.289176    -0.276522  0.185327  1.000000  0.019302  0.019772   \n",
      "sod          0.047451     0.320362 -0.001930  0.019302  1.000000 -0.061467   \n",
      "blonnik     -0.133178    -0.396516  0.515647  0.019772 -0.061467  1.000000   \n",
      "potas        0.025755    -0.380725  0.561373  0.188834 -0.025023  0.907630   \n",
      "kalorie      0.565274     0.271385  0.025989  0.509224  0.299252 -0.290043   \n",
      "\n",
      "                potas   kalorie  \n",
      "cukry        0.025755  0.565274  \n",
      "weglowodany -0.380725  0.271385  \n",
      "proteiny     0.561373  0.025989  \n",
      "tluszcz      0.188834  0.509224  \n",
      "sod         -0.025023  0.299252  \n",
      "blonnik      0.907630 -0.290043  \n",
      "potas        1.000000 -0.068439  \n",
      "kalorie     -0.068439  1.000000  \n"
     ]
    }
   ],
   "execution_count": 32
  },
  {
   "metadata": {
    "ExecuteTime": {
     "end_time": "2024-12-22T12:13:13.745938Z",
     "start_time": "2024-12-22T12:13:13.741913Z"
    }
   },
   "cell_type": "code",
   "source": "",
   "id": "f0a5b53a1a332496",
   "outputs": [],
   "execution_count": 33
  },
  {
   "metadata": {
    "ExecuteTime": {
     "end_time": "2024-12-22T12:27:07.100388Z",
     "start_time": "2024-12-22T12:27:07.081127Z"
    }
   },
   "cell_type": "code",
   "source": [
    "# odrzucamy potas\n",
    "# X=sm.add_constant(X_train[['cukry', 'weglowodany', 'proteiny', 'tluszcz', 'sod', 'blonnik']])\n",
    "# y=y_train['kalorie']\n",
    "# wynik= sm.OLS(y, X).fit()\n",
    "# print(wynik.summary())\n",
    "# odrzucamy sod 0.635\n",
    "# X=sm.add_constant(X_train[['cukry', 'weglowodany', 'proteiny', 'tluszcz', 'blonnik']])\n",
    "# y=y_train['kalorie']\n",
    "# wynik= sm.OLS(y, X).fit()\n",
    "# print(wynik.summary())\n",
    "#\n",
    "\n",
    "# odrzucamy stałą\n",
    "# X=X_train[['cukry', 'weglowodany', 'proteiny', 'tluszcz', 'blonnik']]\n",
    "# y=y_train['kalorie']\n",
    "# wynik= sm.OLS(y, X).fit()\n",
    "# print(wynik.summary())\n",
    "\n",
    "# odrzucamy blonnik 0.151\n",
    "# wynik= sm.OLS(y_train, X_train[['cukry', 'weglowodany', 'proteiny', 'tluszcz']]).fit()\n",
    "# print(wynik.summary())\n",
    "\n",
    "# korelacje modelu\n",
    "print(data[['cukry', 'weglowodany', 'proteiny', 'tluszcz', 'kalorie']].corr())\n",
    "\n",
    "# # odrzucamy cukry 0.56 corr\n",
    "# wynik= sm.OLS(y_train, X_train[['weglowodany', 'proteiny', 'tluszcz']]).fit()\n",
    "# print(wynik.summary())\n",
    "\n",
    "# odrzucamy tluszcz 0.50 corr\n",
    "wynik= sm.OLS(y_train, X_train[['weglowodany', 'proteiny']]).fit()\n",
    "print(wynik.summary())\n",
    "\n",
    "# parametry nie są ze sobą slabo skorelowane\n",
    "\n",
    "\n"
   ],
   "id": "556ba257d60a9fa4",
   "outputs": [
    {
     "name": "stdout",
     "output_type": "stream",
     "text": [
      "                cukry  weglowodany  proteiny   tluszcz   kalorie\n",
      "cukry        1.000000    -0.460999 -0.302288  0.289176  0.565274\n",
      "weglowodany -0.460999     1.000000 -0.018152 -0.276522  0.271385\n",
      "proteiny    -0.302288    -0.018152  1.000000  0.185327  0.025989\n",
      "tluszcz      0.289176    -0.276522  0.185327  1.000000  0.509224\n",
      "kalorie      0.565274     0.271385  0.025989  0.509224  1.000000\n",
      "                                 OLS Regression Results                                \n",
      "=======================================================================================\n",
      "Dep. Variable:                kalorie   R-squared (uncentered):                   0.942\n",
      "Model:                            OLS   Adj. R-squared (uncentered):              0.938\n",
      "Method:                 Least Squares   F-statistic:                              275.0\n",
      "Date:                Sun, 22 Dec 2024   Prob (F-statistic):                    1.01e-21\n",
      "Time:                        13:27:07   Log-Likelihood:                         -167.95\n",
      "No. Observations:                  36   AIC:                                      339.9\n",
      "Df Residuals:                      34   BIC:                                      343.1\n",
      "Df Model:                           2                                                  \n",
      "Covariance Type:            nonrobust                                                  \n",
      "===============================================================================\n",
      "                  coef    std err          t      P>|t|      [0.025      0.975]\n",
      "-------------------------------------------------------------------------------\n",
      "weglowodany     4.6179      0.627      7.365      0.000       3.344       5.892\n",
      "proteiny       12.4766      3.765      3.314      0.002       4.825      20.128\n",
      "==============================================================================\n",
      "Omnibus:                        8.679   Durbin-Watson:                   2.094\n",
      "Prob(Omnibus):                  0.013   Jarque-Bera (JB):                2.732\n",
      "Skew:                           0.272   Prob(JB):                        0.255\n",
      "Kurtosis:                       1.765   Cond. No.                         13.8\n",
      "==============================================================================\n",
      "\n",
      "Notes:\n",
      "[1] R² is computed without centering (uncentered) since the model does not contain a constant.\n",
      "[2] Standard Errors assume that the covariance matrix of the errors is correctly specified.\n",
      "Walidacja kalorie: nan\n"
     ]
    }
   ],
   "execution_count": 56
  },
  {
   "metadata": {
    "ExecuteTime": {
     "end_time": "2024-12-22T12:29:17.586014Z",
     "start_time": "2024-12-22T12:29:17.581012Z"
    }
   },
   "cell_type": "code",
   "source": [
    "\n",
    "from sklearn.metrics import mean_absolute_error, r2_score\n",
    "\n",
    "# predykcje dla danych walidacyjnych\n",
    "y_walidacyjne_pred = wynik.predict(X_walidacyjne[['weglowodany', 'proteiny']])\n",
    "\n",
    "# ocena walidacji\n",
    "walidacja_kalorie = np.sqrt(np.mean((y_walidacyjne_pred - y_walidacyjne.values.ravel()) ** 2))\n",
    "print(f\"Walidacja kalorie wynosi: {walidacja_kalorie:.2f}\")\n",
    "\n",
    "\n",
    "\n",
    "def calculate_mae(y_true, y_pred):\n",
    "    return mean_absolute_error(y_true, y_pred)\n",
    "def calculate_rmse(y_true, y_pred):\n",
    "    return np.sqrt(mean_squared_error(y_true, y_pred))\n",
    "def calculate_r2(y_true, y_pred):\n",
    "    return r2_score(y_true, y_pred)\n",
    "def calculate_me(y_true, y_pred):\n",
    "    return np.mean(y_true - y_pred)\n",
    "def calculate_mpe(y_true, y_pred):\n",
    "    return np.mean((y_true - y_pred) / y_true)\n",
    "def calculate_mape(y_true, y_pred):\n",
    "    return np.mean(np.abs(y_true - y_pred) / y_true)\n",
    "def calculate_u2(y_true, y_pred):\n",
    "    return np.sum((y_true - y_pred) ** 2) / np.sum((y_true - np.mean(y_true)) ** 2)\n",
    "def calculate_um(y_true, y_pred):\n",
    "    return np.sum((y_true - y_pred) ** 2) / np.sum(np.abs(y_true - np.mean(y_true)))\n",
    "def calculate_ur(y_true, y_pred):\n",
    "    return np.sum((y_true - y_pred) ** 2) / np.sum((np.abs(y_true) + np.abs(y_pred)) ** 2)\n",
    "def calculate_ud(y_true, y_pred):\n",
    "    return np.sum((y_true - y_pred) ** 2) / np.sum((np.abs(y_true) + np.abs(y_pred)) / 2)\n",
    "\n"
   ],
   "id": "b367a15f510f619a",
   "outputs": [
    {
     "name": "stdout",
     "output_type": "stream",
     "text": [
      "Walidacja kalorie wynosi: 28.81\n"
     ]
    }
   ],
   "execution_count": 61
  }
 ],
 "metadata": {
  "kernelspec": {
   "display_name": "Python 3",
   "language": "python",
   "name": "python3"
  },
  "language_info": {
   "codemirror_mode": {
    "name": "ipython",
    "version": 2
   },
   "file_extension": ".py",
   "mimetype": "text/x-python",
   "name": "python",
   "nbconvert_exporter": "python",
   "pygments_lexer": "ipython2",
   "version": "2.7.6"
  }
 },
 "nbformat": 4,
 "nbformat_minor": 5
}
